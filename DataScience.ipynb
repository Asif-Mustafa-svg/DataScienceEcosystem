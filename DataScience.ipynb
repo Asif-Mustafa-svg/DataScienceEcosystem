{
 "cells": [
  {
   "cell_type": "markdown",
   "id": "a8f83d30",
   "metadata": {},
   "source": [
    "# Data Science Tools and Ecosystem"
   ]
  },
  {
   "cell_type": "markdown",
   "id": "28f02c49",
   "metadata": {},
   "source": [
    "In this notebook, Data Science Tools and Ecosystem are summarized"
   ]
  },
  {
   "cell_type": "markdown",
   "id": "2b02f962",
   "metadata": {},
   "source": [
    "## Author\n",
    "Md Asif Mustafa"
   ]
  },
  {
   "cell_type": "markdown",
   "id": "e1643648",
   "metadata": {},
   "source": [
    "Some of the popular languages that Data Scientists use are:\n",
    "\n",
    " 1 Python\n",
    " 2 Scala\n",
    " 3 R\n",
    " 4 SQL\n",
    " 5 JAVA\n",
    " 6 C++\n"
   ]
  },
  {
   "cell_type": "markdown",
   "id": "d415f6e5",
   "metadata": {},
   "source": [
    "Some of the commonly used libraries used by Data Scientists include:\n",
    "\n",
    "    1 Panda\n",
    "    2 Seaborn\n",
    "    3 Matplotlib\n",
    "    4 Scikit-learn\n",
    "    5 Keras\n",
    "    6 Vegas\n",
    "    7 Ggplot2"
   ]
  },
  {
   "cell_type": "markdown",
   "id": "a62bb183",
   "metadata": {},
   "source": [
    "| Data Science Tools|\n",
    "| :- | \n",
    "| Anaconda | \n",
    "|Jupyter Notebook|\n",
    "|R Studio|\n",
    "|Zeppelin|"
   ]
  },
  {
   "cell_type": "markdown",
   "id": "85b023f6",
   "metadata": {},
   "source": [
    "### Below are a few examples of evaluating arithmetic expressions in Python ###"
   ]
  },
  {
   "cell_type": "code",
   "execution_count": 5,
   "id": "2f1da538",
   "metadata": {},
   "outputs": [
    {
     "data": {
      "text/plain": [
       "17"
      ]
     },
     "execution_count": 5,
     "metadata": {},
     "output_type": "execute_result"
    }
   ],
   "source": [
    "(3*4)+5"
   ]
  },
  {
   "cell_type": "code",
   "execution_count": 6,
   "id": "91d103c1",
   "metadata": {},
   "outputs": [
    {
     "data": {
      "text/plain": [
       "3.3333333333333335"
      ]
     },
     "execution_count": 6,
     "metadata": {},
     "output_type": "execute_result"
    }
   ],
   "source": [
    "#This will convert 200 minutes to hours by diving by 60\n",
    "200/60"
   ]
  },
  {
   "cell_type": "markdown",
   "id": "e8a2058d",
   "metadata": {},
   "source": [
    "### Objectives:\n",
    "* Addition of comments in jupyter notebook\n",
    "* Mathematical operations\n",
    "* Difference and principle of markdown and coding cell\n",
    "* GitHub \n"
   ]
  },
  {
   "cell_type": "code",
   "execution_count": null,
   "id": "a9594fa4",
   "metadata": {},
   "outputs": [],
   "source": []
  }
 ],
 "metadata": {
  "kernelspec": {
   "display_name": "Python 3 (ipykernel)",
   "language": "python",
   "name": "python3"
  },
  "language_info": {
   "codemirror_mode": {
    "name": "ipython",
    "version": 3
   },
   "file_extension": ".py",
   "mimetype": "text/x-python",
   "name": "python",
   "nbconvert_exporter": "python",
   "pygments_lexer": "ipython3",
   "version": "3.11.5"
  }
 },
 "nbformat": 4,
 "nbformat_minor": 5
}
